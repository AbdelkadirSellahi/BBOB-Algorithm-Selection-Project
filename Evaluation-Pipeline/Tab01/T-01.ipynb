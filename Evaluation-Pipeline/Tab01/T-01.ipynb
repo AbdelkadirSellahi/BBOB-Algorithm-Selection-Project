{
 "cells": [
  {
   "cell_type": "code",
   "execution_count": null,
   "id": "c02fad23",
   "metadata": {},
   "outputs": [],
   "source": [
    "import pandas as pd"
   ]
  },
  {
   "cell_type": "code",
   "execution_count": null,
   "id": "8f67069e",
   "metadata": {},
   "outputs": [],
   "source": [
    "# Liste des algorithmes à inclure\n",
    "algorithms = [\n",
    "    'BIPOP-CMA-ES', 'CMA-CSA_Atamna', 'CMAES-APOP-KMA_Nguyen',\n",
    "    'DE-BFGS_voglis_noiseless', 'a-CMA-ES', 'ad-CMA-ES_Gissler',\n",
    "    'adm-CMA-ES_Gissler', 'dm-CMA-ES_Gissler', 's-CMA-ES_Gissler',\n",
    "    'sd-CMA-ES_Gissler'\n",
    "]"
   ]
  },
  {
   "cell_type": "code",
   "execution_count": null,
   "id": "a97cd685",
   "metadata": {},
   "outputs": [],
   "source": [
    "# Groupes de fonctions\n",
    "function_groups = {\n",
    "    '1-5': list(range(1, 6)),\n",
    "    '6-9': list(range(6, 10)),\n",
    "    '10-14': list(range(10, 15)),\n",
    "    '15-19': list(range(15, 20)),\n",
    "    '20-24': list(range(20, 25))\n",
    "}"
   ]
  },
  {
   "cell_type": "code",
   "execution_count": null,
   "id": "aaa8cbf1",
   "metadata": {},
   "outputs": [],
   "source": [
    "# Lecture du fichier CSV\n",
    "df = pd.read_csv('optimization_data_relert.csv')"
   ]
  },
  {
   "cell_type": "code",
   "execution_count": null,
   "id": "03b72e78",
   "metadata": {},
   "outputs": [],
   "source": [
    "# Filtrer les algorithmes\n",
    "df_filtered = df[df['Algorithm'].isin(algorithms)].copy()"
   ]
  },
  {
   "cell_type": "code",
   "execution_count": null,
   "id": "0798aeb0",
   "metadata": {},
   "outputs": [],
   "source": [
    "# Ajouter le groupe de fonctions\n",
    "def assign_function_group(func):\n",
    "    for group_name, functions in function_groups.items():\n",
    "        if func in functions:\n",
    "            return group_name\n",
    "    return None"
   ]
  },
  {
   "cell_type": "code",
   "execution_count": null,
   "id": "e7c87d30",
   "metadata": {},
   "outputs": [],
   "source": [
    "df_filtered['function_group'] = df_filtered['Function'].apply(assign_function_group)\n",
    "df_filtered = df_filtered.dropna(subset=['function_group'])"
   ]
  },
  {
   "cell_type": "code",
   "execution_count": null,
   "id": "b0476faa",
   "metadata": {},
   "outputs": [],
   "source": [
    "# Calcul de la moyenne par Dimension, function_group et Algorithm\n",
    "result = df_filtered.groupby(['Dimension', 'function_group', 'Algorithm'])['RELERT'].mean().reset_index()"
   ]
  },
  {
   "cell_type": "code",
   "execution_count": null,
   "id": "1b6a418d",
   "metadata": {},
   "outputs": [],
   "source": [
    "# Pivot: algorithmes en colonnes\n",
    "pivot_result = result.pivot(index=['Dimension', 'function_group'], columns='Algorithm', values='RELERT')"
   ]
  },
  {
   "cell_type": "code",
   "execution_count": null,
   "id": "5db6ec40",
   "metadata": {},
   "outputs": [],
   "source": [
    "# Ajouter la ligne \"ALL\" pour chaque Dimension\n",
    "all_per_dimension = (\n",
    "    pivot_result\n",
    "    .groupby(level=0)  # par Dimension uniquement\n",
    "    .mean()\n",
    "    .assign(function_group='ALL')\n",
    "    .set_index('function_group', append=True)\n",
    ")"
   ]
  },
  {
   "cell_type": "code",
   "execution_count": null,
   "id": "833330f1",
   "metadata": {},
   "outputs": [],
   "source": [
    "# Ajouter la ligne \"ALL/ALL\" pour tout\n",
    "all_overall = pd.DataFrame(\n",
    "    pivot_result.mean().to_dict(),\n",
    "    index=[('ALL', 'ALL')]\n",
    ")"
   ]
  },
  {
   "cell_type": "code",
   "execution_count": null,
   "id": "e76f4724",
   "metadata": {},
   "outputs": [],
   "source": [
    "# Concaténer les résultats\n",
    "final_result = pd.concat([pivot_result, all_per_dimension, all_overall])\n",
    "final_result = final_result.sort_index()"
   ]
  },
  {
   "cell_type": "code",
   "execution_count": null,
   "id": "df876f79",
   "metadata": {},
   "outputs": [],
   "source": [
    "# Exporter en Excel\n",
    "try:\n",
    "    final_result.to_excel('RELERt_table_with_ALL.xlsx')\n",
    "    print(\"Tableau final enregistré dans 'RELERt_table_with_ALL.xlsx'\")\n",
    "except PermissionError:\n",
    "    print(\"Fichier ouvert ? Enregistrement sous un autre nom...\")\n",
    "    final_result.to_excel('RELERt_table_with_ALL_alt.xlsx')\n",
    "    print(\"Enregistré dans 'RELERt_table_with_ALL_alt.xlsx'\")"
   ]
  }
 ],
 "metadata": {
  "kernelspec": {
   "display_name": "Python 3 (ipykernel)",
   "language": "python",
   "name": "python3"
  },
  "language_info": {
   "codemirror_mode": {
    "name": "ipython",
    "version": 3
   },
   "file_extension": ".py",
   "mimetype": "text/x-python",
   "name": "python",
   "nbconvert_exporter": "python",
   "pygments_lexer": "ipython3",
   "version": "3.11.5"
  }
 },
 "nbformat": 4,
 "nbformat_minor": 5
}
