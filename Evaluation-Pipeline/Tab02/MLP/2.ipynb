{
 "cells": [
  {
   "cell_type": "code",
   "execution_count": null,
   "id": "8c907b1f",
   "metadata": {},
   "outputs": [],
   "source": [
    "import pandas as pd"
   ]
  },
  {
   "cell_type": "code",
   "execution_count": null,
   "id": "fa5a681d",
   "metadata": {},
   "outputs": [],
   "source": [
    "# Load the original full data with RELERT\n",
    "full_data = pd.read_csv('optimization_data_relert.csv')"
   ]
  },
  {
   "cell_type": "code",
   "execution_count": null,
   "id": "5ab83ab7",
   "metadata": {},
   "outputs": [],
   "source": [
    "# Load the predictions file\n",
    "predictions = pd.read_csv('predictions.csv')"
   ]
  },
  {
   "cell_type": "code",
   "execution_count": null,
   "id": "69c7e502",
   "metadata": {},
   "outputs": [],
   "source": [
    "# Rename columns in predictions to match those in the full data\n",
    "predictions = predictions.rename(columns={\n",
    "    'FID': 'Function',\n",
    "    'IID': 'Instance',\n",
    "    'Predicted Algorithm': 'Algorithm'\n",
    "})"
   ]
  },
  {
   "cell_type": "code",
   "execution_count": null,
   "id": "8f8014ed",
   "metadata": {},
   "outputs": [],
   "source": [
    "# Merge predictions with full data to get the RELERT value\n",
    "merged = pd.merge(predictions, full_data[['Algorithm', 'Function', 'Instance', 'Dimension', 'RELERT']],\n",
    "                  on=['Algorithm', 'Function', 'Instance', 'Dimension'],\n",
    "                  how='left')"
   ]
  },
  {
   "cell_type": "code",
   "execution_count": null,
   "id": "d175b7e2",
   "metadata": {},
   "outputs": [],
   "source": [
    "# Save the final result to a new CSV\n",
    "merged.to_csv('predictions_with_relert.csv', index=False)\n",
    "\n",
    "print(\"File 'predictions_with_relert.csv' created successfully.\")"
   ]
  }
 ],
 "metadata": {
  "kernelspec": {
   "display_name": "Python 3 (ipykernel)",
   "language": "python",
   "name": "python3"
  },
  "language_info": {
   "codemirror_mode": {
    "name": "ipython",
    "version": 3
   },
   "file_extension": ".py",
   "mimetype": "text/x-python",
   "name": "python",
   "nbconvert_exporter": "python",
   "pygments_lexer": "ipython3",
   "version": "3.11.5"
  }
 },
 "nbformat": 4,
 "nbformat_minor": 5
}
