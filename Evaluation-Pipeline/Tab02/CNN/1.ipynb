{
 "cells": [
  {
   "cell_type": "code",
   "execution_count": 1,
   "metadata": {
    "colab": {
     "base_uri": "https://localhost:8080/"
    },
    "executionInfo": {
     "elapsed": 20542,
     "status": "ok",
     "timestamp": 1750808099740,
     "user": {
      "displayName": "Freelance Projet",
      "userId": "06036806217603537811"
     },
     "user_tz": -60
    },
    "id": "hxjUr01YA5iJ",
    "outputId": "3d4c3e84-a4d1-4612-83cb-bc5d18820bed"
   },
   "outputs": [
    {
     "name": "stdout",
     "output_type": "stream",
     "text": [
      "Mounted at /content/drive\n"
     ]
    }
   ],
   "source": [
    "from google.colab import drive\n",
    "# Mount Google Drive\n",
    "drive.mount('/content/drive')"
   ]
  },
  {
   "cell_type": "code",
   "execution_count": 2,
   "metadata": {
    "executionInfo": {
     "elapsed": 7139,
     "status": "ok",
     "timestamp": 1750799923419,
     "user": {
      "displayName": "Freelance Projet",
      "userId": "06036806217603537811"
     },
     "user_tz": -60
    },
    "id": "zNyrhVJIyqGS"
   },
   "outputs": [],
   "source": [
    "import pandas as pd\n",
    "import numpy as np\n",
    "import tensorflow as tf\n",
    "import joblib\n",
    "import pandas as pd\n",
    "import numpy as np\n",
    "import tensorflow as tf\n",
    "from sklearn.preprocessing import LabelEncoder\n",
    "from imblearn.over_sampling import SMOTE\n",
    "from tensorflow.keras.models import load_model"
   ]
  },
  {
   "cell_type": "code",
   "execution_count": 3,
   "metadata": {
    "colab": {
     "base_uri": "https://localhost:8080/"
    },
    "executionInfo": {
     "elapsed": 2029,
     "status": "ok",
     "timestamp": 1750799925455,
     "user": {
      "displayName": "Freelance Projet",
      "userId": "06036806217603537811"
     },
     "user_tz": -60
    },
    "id": "AudfzEvdyr4d",
    "outputId": "ba237cc1-e0e5-4058-ddfe-3107b894f8e1"
   },
   "outputs": [
    {
     "name": "stderr",
     "output_type": "stream",
     "text": [
      "WARNING:absl:Compiled the loaded model, but the compiled metrics have yet to be built. `model.compile_metrics` will be empty until you train or evaluate the model.\n"
     ]
    }
   ],
   "source": [
    "# Load the saved model and label encoder\n",
    "model = tf.keras.models.load_model('/content/drive/MyDrive/New-Job/cnn_model.h5')\n",
    "label_encoder = joblib.load('/content/drive/MyDrive/Wail-Projet-F/CNN/Data/label_encoder.pkl')"
   ]
  },
  {
   "cell_type": "code",
   "execution_count": 4,
   "metadata": {
    "colab": {
     "base_uri": "https://localhost:8080/"
    },
    "executionInfo": {
     "elapsed": 14,
     "status": "ok",
     "timestamp": 1750799925474,
     "user": {
      "displayName": "Freelance Projet",
      "userId": "06036806217603537811"
     },
     "user_tz": -60
    },
    "id": "EbKAscVyyuKd",
    "outputId": "7ccb00a4-6d9a-40f7-ba8c-07a37939f6c6"
   },
   "outputs": [
    {
     "name": "stdout",
     "output_type": "stream",
     "text": [
      "Model's expected input shape: (None, 18, 18, 1)\n"
     ]
    }
   ],
   "source": [
    "# Get the model's expected input shape\n",
    "input_shape = model.input_shape\n",
    "print(f\"Model's expected input shape: {input_shape}\")\n",
    "expected_side_length = input_shape[1]\n",
    "expected_features = expected_side_length ** 2"
   ]
  },
  {
   "cell_type": "code",
   "execution_count": null,
   "metadata": {
    "colab": {
     "base_uri": "https://localhost:8080/"
    },
    "executionInfo": {
     "elapsed": 388,
     "status": "ok",
     "timestamp": 1750799925864,
     "user": {
      "displayName": "Freelance Projet",
      "userId": "06036806217603537811"
     },
     "user_tz": -60
    },
    "id": "VDA5FAaOyvy2",
    "outputId": "4101977b-167e-41f6-f055-0e47b237b6c4"
   },
   "outputs": [
    {
     "name": "stdout",
     "output_type": "stream",
     "text": [
      "Columns in test data: ['FID', 'IID', 'Dimension', 'basic.blocks_max', 'basic.blocks_min', 'basic.cells_filled', 'basic.cells_total', 'basic.costs_fun_evals', 'basic.costs_runtime', 'basic.dim', 'basic.lower_max', 'basic.lower_min', 'basic.minimize_fun', 'basic.objective_max', 'basic.objective_min', 'basic.observations', 'basic.upper_max', 'basic.upper_min', 'bt.mean.attractor_dists.max', 'bt.mean.attractor_dists.mean', 'bt.mean.attractor_dists.median', 'bt.mean.attractor_dists.min', 'bt.mean.basin_intersection.max', 'bt.mean.basin_intersection.mean', 'bt.mean.basin_intersection.median', 'bt.mean.basin_intersection.min', 'bt.mean.basin_range', 'bt.mean.basin_ratio.certain', 'bt.mean.basin_ratio.most_likely', 'bt.mean.basin_ratio.uncertain', 'bt.mean.costs_fun_evals', 'bt.mean.costs_runtime', 'bt.mean.depth', 'bt.mean.leaves', 'bt.mean.levels', 'bt.mean.levels_nodes_ratio', 'bt.min.attractor_dists.max', 'bt.min.attractor_dists.mean', 'bt.min.attractor_dists.median', 'bt.min.attractor_dists.min', 'bt.min.basin_intersection.max', 'bt.min.basin_intersection.mean', 'bt.min.basin_intersection.median', 'bt.min.basin_intersection.min', 'bt.min.basin_range', 'bt.min.basin_ratio.certain', 'bt.min.basin_ratio.most_likely', 'bt.min.basin_ratio.uncertain', 'bt.min.costs_fun_evals', 'bt.min.costs_runtime', 'bt.min.depth', 'bt.min.leaves', 'bt.min.levels', 'bt.min.levels_nodes_ratio', 'bt.near.attractor_dists.max', 'bt.near.attractor_dists.mean', 'bt.near.attractor_dists.median', 'bt.near.attractor_dists.min', 'bt.near.basin_intersection.max', 'bt.near.basin_intersection.mean', 'bt.near.basin_intersection.median', 'bt.near.basin_intersection.min', 'bt.near.basin_range', 'bt.near.basin_ratio.certain', 'bt.near.basin_ratio.most_likely', 'bt.near.basin_ratio.uncertain', 'bt.near.costs_fun_evals', 'bt.near.costs_runtime', 'bt.near.depth', 'bt.near.leaves', 'bt.near.levels', 'bt.near.levels_nodes_ratio', 'cm_angle.angle.mean', 'cm_angle.angle.sd', 'cm_angle.costs_fun_evals', 'cm_angle.costs_runtime', 'cm_angle.dist_ctr2best.mean', 'cm_angle.dist_ctr2best.sd', 'cm_angle.dist_ctr2worst.mean', 'cm_angle.dist_ctr2worst.sd', 'cm_angle.y_ratio_best2worst.mean', 'cm_angle.y_ratio_best2worst.sd', 'cm_grad.costs_fun_evals', 'cm_grad.costs_runtime', 'cm_grad.mean', 'cm_grad.sd', 'disp.costs_fun_evals', 'disp.costs_runtime', 'disp.diff_mean_02', 'disp.diff_mean_05', 'disp.diff_mean_10', 'disp.diff_mean_25', 'disp.diff_median_02', 'disp.diff_median_05', 'disp.diff_median_10', 'disp.diff_median_25', 'disp.ratio_mean_02', 'disp.ratio_mean_05', 'disp.ratio_mean_10', 'disp.ratio_mean_25', 'disp.ratio_median_02', 'disp.ratio_median_05', 'disp.ratio_median_10', 'disp.ratio_median_25', 'ela_conv.conv_prob', 'ela_conv.costs_fun_evals', 'ela_conv.costs_runtime', 'ela_conv.lin_dev.abs', 'ela_conv.lin_dev.orig', 'ela_conv.lin_prob', 'ela_curv.costs_fun_evals', 'ela_curv.costs_runtime', 'ela_curv.grad_norm.lq', 'ela_curv.grad_norm.max', 'ela_curv.grad_norm.mean', 'ela_curv.grad_norm.med', 'ela_curv.grad_norm.min', 'ela_curv.grad_norm.nas', 'ela_curv.grad_norm.sd', 'ela_curv.grad_norm.uq', 'ela_curv.grad_scale.lq', 'ela_curv.grad_scale.max', 'ela_curv.grad_scale.mean', 'ela_curv.grad_scale.med', 'ela_curv.grad_scale.min', 'ela_curv.grad_scale.nas', 'ela_curv.grad_scale.sd', 'ela_curv.grad_scale.uq', 'ela_curv.hessian_cond.lq', 'ela_curv.hessian_cond.max', 'ela_curv.hessian_cond.mean', 'ela_curv.hessian_cond.med', 'ela_curv.hessian_cond.min', 'ela_curv.hessian_cond.nas', 'ela_curv.hessian_cond.sd', 'ela_curv.hessian_cond.uq', 'ela_distr.costs_fun_evals', 'ela_distr.costs_runtime', 'ela_distr.kurtosis', 'ela_distr.number_of_peaks', 'ela_distr.skewness', 'ela_level.costs_fun_evals', 'ela_level.costs_runtime', 'ela_level.lda_mda_10', 'ela_level.lda_mda_25', 'ela_level.lda_mda_50', 'ela_level.lda_qda_10', 'ela_level.lda_qda_25', 'ela_level.lda_qda_50', 'ela_level.mmce_lda_10', 'ela_level.mmce_lda_25', 'ela_level.mmce_lda_50', 'ela_level.mmce_mda_10', 'ela_level.mmce_mda_25', 'ela_level.mmce_mda_50', 'ela_level.mmce_qda_10', 'ela_level.mmce_qda_25', 'ela_level.mmce_qda_50', 'ela_level.qda_mda_10', 'ela_level.qda_mda_25', 'ela_level.qda_mda_50', 'ela_local.basin_sizes.avg_best', 'ela_local.basin_sizes.avg_non_best', 'ela_local.basin_sizes.avg_worst', 'ela_local.best2mean_contr.orig', 'ela_local.best2mean_contr.ratio', 'ela_local.costs_fun_evals', 'ela_local.costs_runtime', 'ela_local.fun_evals.lq', 'ela_local.fun_evals.max', 'ela_local.fun_evals.mean', 'ela_local.fun_evals.median', 'ela_local.fun_evals.min', 'ela_local.fun_evals.sd', 'ela_local.fun_evals.uq', 'ela_local.n_loc_opt.abs', 'ela_local.n_loc_opt.rel', 'ela_meta.costs_fun_evals', 'ela_meta.costs_runtime', 'ela_meta.lin_simple.adj_r2', 'ela_meta.lin_simple.coef.max', 'ela_meta.lin_simple.coef.max_by_min', 'ela_meta.lin_simple.coef.min', 'ela_meta.lin_simple.intercept', 'ela_meta.lin_w_interact.adj_r2', 'ela_meta.quad_simple.adj_r2', 'ela_meta.quad_simple.cond', 'ela_meta.quad_w_interact.adj_r2', 'gcm.mean.attractors', 'gcm.mean.basin_certain.max', 'gcm.mean.basin_certain.mean', 'gcm.mean.basin_certain.median', 'gcm.mean.basin_certain.min', 'gcm.mean.basin_certain.sum', 'gcm.mean.basin_prob.max', 'gcm.mean.basin_prob.mean', 'gcm.mean.basin_prob.median', 'gcm.mean.basin_prob.min', 'gcm.mean.basin_uncertain.max', 'gcm.mean.basin_uncertain.mean', 'gcm.mean.basin_uncertain.median', 'gcm.mean.basin_uncertain.min', 'gcm.mean.basin_uncertain.sum', 'gcm.mean.best_attr.no', 'gcm.mean.best_attr.prob', 'gcm.mean.costs_fun_evals', 'gcm.mean.costs_runtime', 'gcm.mean.pcells', 'gcm.mean.tcells', 'gcm.mean.uncertain', 'gcm.min.attractors', 'gcm.min.basin_certain.max', 'gcm.min.basin_certain.mean', 'gcm.min.basin_certain.median', 'gcm.min.basin_certain.min', 'gcm.min.basin_certain.sum', 'gcm.min.basin_prob.max', 'gcm.min.basin_prob.mean', 'gcm.min.basin_prob.median', 'gcm.min.basin_prob.min', 'gcm.min.basin_uncertain.max', 'gcm.min.basin_uncertain.mean', 'gcm.min.basin_uncertain.median', 'gcm.min.basin_uncertain.min', 'gcm.min.basin_uncertain.sum', 'gcm.min.best_attr.no', 'gcm.min.best_attr.prob', 'gcm.min.costs_fun_evals', 'gcm.min.costs_runtime', 'gcm.min.pcells', 'gcm.min.tcells', 'gcm.min.uncertain', 'gcm.near.attractors', 'gcm.near.basin_certain.max', 'gcm.near.basin_certain.mean', 'gcm.near.basin_certain.median', 'gcm.near.basin_certain.min', 'gcm.near.basin_certain.sum', 'gcm.near.basin_prob.max', 'gcm.near.basin_prob.mean', 'gcm.near.basin_prob.median', 'gcm.near.basin_prob.min', 'gcm.near.basin_uncertain.max', 'gcm.near.basin_uncertain.mean', 'gcm.near.basin_uncertain.median', 'gcm.near.basin_uncertain.min', 'gcm.near.basin_uncertain.sum', 'gcm.near.best_attr.no', 'gcm.near.best_attr.prob', 'gcm.near.costs_fun_evals', 'gcm.near.costs_runtime', 'gcm.near.pcells', 'gcm.near.tcells', 'gcm.near.uncertain', 'ic.costs_fun_evals', 'ic.costs_runtime', 'ic.eps.max', 'ic.eps.ratio', 'ic.eps.s', 'ic.h.max', 'ic.m0', 'limo.avg_length.norm', 'limo.avg_length.reg', 'limo.cor.norm', 'limo.cor.reg', 'limo.costs_fun_evals', 'limo.costs_runtime', 'limo.length.mean', 'limo.length.sd', 'limo.ratio.mean', 'limo.ratio.sd', 'limo.sd_mean.norm', 'limo.sd_mean.reg', 'limo.sd_ratio.norm', 'limo.sd_ratio.reg', 'nbc.costs_fun_evals', 'nbc.costs_runtime', 'nbc.dist_ratio.coeff_var', 'nbc.nb_fitness.cor', 'nbc.nn_nb.cor', 'nbc.nn_nb.mean_ratio', 'nbc.nn_nb.sd_ratio', 'pca.costs_fun_evals', 'pca.costs_runtime', 'pca.expl_var.cor_init', 'pca.expl_var.cor_x', 'pca.expl_var.cov_init', 'pca.expl_var.cov_x', 'pca.expl_var_PC1.cor_init', 'pca.expl_var_PC1.cor_x', 'pca.expl_var_PC1.cov_init', 'pca.expl_var_PC1.cov_x', 'Function', 'Instance', 'ERT', 'min_ERT', 'RELERT', 'Best Algorithm']\n"
     ]
    }
   ],
   "source": [
    "# Load the test dataset for testing\n",
    "data = pd.read_csv('/content/drive/MyDrive/New-Job/test_dataset.csv')\n",
    "print(f\"Columns in test data: {data.columns.tolist()}\")"
   ]
  },
  {
   "cell_type": "code",
   "execution_count": null,
   "metadata": {
    "executionInfo": {
     "elapsed": 307,
     "status": "ok",
     "timestamp": 1750799926177,
     "user": {
      "displayName": "Freelance Projet",
      "userId": "06036806217603537811"
     },
     "user_tz": -60
    },
    "id": "_DvZFZSmyxQW"
   },
   "outputs": [],
   "source": [
    "# Load the original dataset for output\n",
    "original_data = pd.read_csv('/content/drive/MyDrive/Wail-Projet-F/CNN/Data/dataset.csv')\n",
    "output_data = original_data[['Dimension', 'FID', 'IID']].copy()"
   ]
  },
  {
   "cell_type": "code",
   "execution_count": null,
   "metadata": {
    "executionInfo": {
     "elapsed": 15,
     "status": "ok",
     "timestamp": 1750799926183,
     "user": {
      "displayName": "Freelance Projet",
      "userId": "06036806217603537811"
     },
     "user_tz": -60
    },
    "id": "DfN60tdmy0Xm"
   },
   "outputs": [],
   "source": [
    "# Separate features and true labels from the test dataset\n",
    "columns_to_drop = ['FID', 'IID', 'Dimension', 'ERT', 'min_ERT', 'RELERT']\n",
    "data_features = data.drop(columns=[col for col in columns_to_drop if col in data.columns], axis=1)\n",
    "true_labels_numeric = data['Best Algorithm'].values"
   ]
  },
  {
   "cell_type": "code",
   "execution_count": 8,
   "metadata": {
    "colab": {
     "base_uri": "https://localhost:8080/"
    },
    "executionInfo": {
     "elapsed": 36,
     "status": "ok",
     "timestamp": 1750799926211,
     "user": {
      "displayName": "Freelance Projet",
      "userId": "06036806217603537811"
     },
     "user_tz": -60
    },
    "id": "mf8Y7ZIZy10O",
    "outputId": "635b4c73-fb7a-458d-da6f-64462becf214"
   },
   "outputs": [
    {
     "name": "stdout",
     "output_type": "stream",
     "text": [
      "Unique true labels (numeric): [0 1 2 3 4 5 6 7 8 9]\n"
     ]
    }
   ],
   "source": [
    "# Debug: Print unique true labels\n",
    "print(f\"Unique true labels (numeric): {np.unique(true_labels_numeric)}\")"
   ]
  },
  {
   "cell_type": "code",
   "execution_count": 9,
   "metadata": {
    "executionInfo": {
     "elapsed": 5,
     "status": "ok",
     "timestamp": 1750799926219,
     "user": {
      "displayName": "Freelance Projet",
      "userId": "06036806217603537811"
     },
     "user_tz": -60
    },
    "id": "EyoV-APey3o1"
   },
   "outputs": [],
   "source": [
    "# Convert numeric labels to algorithm names using the dictionary\n",
    "algorithm_names = {\n",
    "    0: 'BIPOP-CMA-ES',\n",
    "    1: 'CMA-CSA_Atamna',\n",
    "    2: 'CMAES-APOP-KMA_Nguyen',\n",
    "    3: 'DE-BFGS_voglis_noiseless',\n",
    "    4: 'a-CMA-ES',\n",
    "    5: 'ad-CMA-ES_Gissler',\n",
    "    6: 'adm-CMA-ES_Gissler',\n",
    "    7: 'dm-CMA-ES_Gissler',\n",
    "    8: 's-CMA-ES_Gissler',\n",
    "    9: 'sd-CMA-ES_Gissler'\n",
    "}\n",
    "true_labels = [algorithm_names.get(int(label), 'Unknown') for label in true_labels_numeric]"
   ]
  },
  {
   "cell_type": "code",
   "execution_count": 10,
   "metadata": {
    "executionInfo": {
     "elapsed": 23,
     "status": "ok",
     "timestamp": 1750799926249,
     "user": {
      "displayName": "Freelance Projet",
      "userId": "06036806217603537811"
     },
     "user_tz": -60
    },
    "id": "G61mmpRMy5S2"
   },
   "outputs": [],
   "source": [
    "# Convert to numeric and handle missing values\n",
    "for column in data_features.columns:\n",
    "    data_features[column] = pd.to_numeric(data_features[column], errors='coerce')\n",
    "data_features = data_features.fillna(0)"
   ]
  },
  {
   "cell_type": "code",
   "execution_count": 11,
   "metadata": {
    "colab": {
     "base_uri": "https://localhost:8080/"
    },
    "executionInfo": {
     "elapsed": 46,
     "status": "ok",
     "timestamp": 1750799926300,
     "user": {
      "displayName": "Freelance Projet",
      "userId": "06036806217603537811"
     },
     "user_tz": -60
    },
    "id": "iFTEDvnly6u9",
    "outputId": "6f38335a-1377-48e7-a0fc-b63552e5dfd0"
   },
   "outputs": [
    {
     "name": "stdout",
     "output_type": "stream",
     "text": [
      "Number of features: 292\n"
     ]
    }
   ],
   "source": [
    "# Prepare features\n",
    "X_new = data_features.values\n",
    "print(f\"Number of features: {X_new.shape[1]}\")\n",
    "X_new = X_new.astype(np.float32)"
   ]
  },
  {
   "cell_type": "code",
   "execution_count": 12,
   "metadata": {
    "executionInfo": {
     "elapsed": 4,
     "status": "ok",
     "timestamp": 1750799926311,
     "user": {
      "displayName": "Freelance Projet",
      "userId": "06036806217603537811"
     },
     "user_tz": -60
    },
    "id": "8A_zt8tmy8id"
   },
   "outputs": [],
   "source": [
    "# Pad or trim features\n",
    "n_features = X_new.shape[1]\n",
    "if n_features < expected_features:\n",
    "    padding = expected_features - n_features\n",
    "    X_new = np.pad(X_new, ((0, 0), (0, padding)), mode='constant', constant_values=0)\n",
    "elif n_features > expected_features:\n",
    "    X_new = X_new[:, :expected_features]"
   ]
  },
  {
   "cell_type": "code",
   "execution_count": 13,
   "metadata": {
    "executionInfo": {
     "elapsed": 3,
     "status": "ok",
     "timestamp": 1750799926320,
     "user": {
      "displayName": "Freelance Projet",
      "userId": "06036806217603537811"
     },
     "user_tz": -60
    },
    "id": "hLF4aB_My-D-"
   },
   "outputs": [],
   "source": [
    "# Reshape to match the model's input shape\n",
    "X_new = X_new.reshape(-1, expected_side_length, expected_side_length, 1)"
   ]
  },
  {
   "cell_type": "code",
   "execution_count": 14,
   "metadata": {
    "executionInfo": {
     "elapsed": 332,
     "status": "ok",
     "timestamp": 1750799926657,
     "user": {
      "displayName": "Freelance Projet",
      "userId": "06036806217603537811"
     },
     "user_tz": -60
    },
    "id": "G6d2-t4gy_aI"
   },
   "outputs": [],
   "source": [
    "# Make predictions\n",
    "predictions = model.predict(X_new, verbose=0)\n",
    "predicted_classes = np.argmax(predictions, axis=1)"
   ]
  },
  {
   "cell_type": "code",
   "execution_count": 15,
   "metadata": {
    "executionInfo": {
     "elapsed": 5,
     "status": "ok",
     "timestamp": 1750799926666,
     "user": {
      "displayName": "Freelance Projet",
      "userId": "06036806217603537811"
     },
     "user_tz": -60
    },
    "id": "cIzwclKHzBze"
   },
   "outputs": [],
   "source": [
    "# Transform true labels using the label encoder\n",
    "true_indices = label_encoder.transform(true_labels)"
   ]
  },
  {
   "cell_type": "code",
   "execution_count": 17,
   "metadata": {
    "executionInfo": {
     "elapsed": 3,
     "status": "ok",
     "timestamp": 1750799926693,
     "user": {
      "displayName": "Freelance Projet",
      "userId": "06036806217603537811"
     },
     "user_tz": -60
    },
    "id": "OCyPO3CezG_W"
   },
   "outputs": [],
   "source": [
    "# Add predicted algorithms to output data\n",
    "predicted_algorithms = [algorithm_names.get(pred, 'Unknown') for pred in predicted_classes]\n",
    "output_data['Predicted Algorithm'] = predicted_algorithms"
   ]
  },
  {
   "cell_type": "code",
   "execution_count": 18,
   "metadata": {
    "colab": {
     "base_uri": "https://localhost:8080/"
    },
    "executionInfo": {
     "elapsed": 163,
     "status": "ok",
     "timestamp": 1750799926858,
     "user": {
      "displayName": "Freelance Projet",
      "userId": "06036806217603537811"
     },
     "user_tz": -60
    },
    "id": "XN8GGMgKyn8S",
    "outputId": "793dae27-4099-4867-93a8-789f76cf922e"
   },
   "outputs": [
    {
     "name": "stdout",
     "output_type": "stream",
     "text": [
      "Predictions saved to: /content/drive/MyDrive/New-Job/predictions.csv\n"
     ]
    }
   ],
   "source": [
    "# Save to CSV with original values\n",
    "output_data.to_csv('/content/drive/MyDrive/New-Job/predictions.csv', index=False)\n",
    "print(f\"Predictions saved to: /content/drive/MyDrive/New-Job/predictions.csv\")"
   ]
  }
 ],
 "metadata": {
  "colab": {
   "authorship_tag": "ABX9TyOgIpk82iNSaX7xd7hojK46",
   "provenance": []
  },
  "kernelspec": {
   "display_name": "Python 3 (ipykernel)",
   "language": "python",
   "name": "python3"
  },
  "language_info": {
   "codemirror_mode": {
    "name": "ipython",
    "version": 3
   },
   "file_extension": ".py",
   "mimetype": "text/x-python",
   "name": "python",
   "nbconvert_exporter": "python",
   "pygments_lexer": "ipython3",
   "version": "3.11.5"
  }
 },
 "nbformat": 4,
 "nbformat_minor": 4
}
