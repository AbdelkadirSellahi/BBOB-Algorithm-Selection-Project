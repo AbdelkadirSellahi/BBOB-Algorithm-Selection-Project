{
 "cells": [
  {
   "cell_type": "code",
   "execution_count": null,
   "id": "b1abd38d-debb-4e28-bc6c-f49775ec996a",
   "metadata": {},
   "outputs": [],
   "source": [
    "import pandas as pd"
   ]
  },
  {
   "cell_type": "code",
   "execution_count": null,
   "id": "5fef221b-6654-4ac7-949b-85c87b2cca45",
   "metadata": {},
   "outputs": [],
   "source": [
    "# Charger les données depuis le fichier CSV\n",
    "df = pd.read_csv('predictions_with_relert.csv')"
   ]
  },
  {
   "cell_type": "code",
   "execution_count": null,
   "id": "d4b0c339-c0f4-4040-91da-5a7e48363a12",
   "metadata": {},
   "outputs": [],
   "source": [
    "# Définir les groupes de fonctions selon Function (anciennement FID)\n",
    "function_groups = {\n",
    "    '1-5': list(range(1, 6)),\n",
    "    '6-9': list(range(6, 10)),\n",
    "    '10-14': list(range(10, 15)),\n",
    "    '15-19': list(range(15, 20)),\n",
    "    '20-24': list(range(20, 25))\n",
    "}"
   ]
  },
  {
   "cell_type": "code",
   "execution_count": null,
   "id": "033ea6ac-f44b-4c09-b536-617c89321e7d",
   "metadata": {},
   "outputs": [],
   "source": [
    "# Fonction d'assignation du groupe de fonctions\n",
    "def assign_function_group(fid):\n",
    "    for group_name, functions in function_groups.items():\n",
    "        if fid in functions:\n",
    "            return group_name\n",
    "    return None"
   ]
  },
  {
   "cell_type": "code",
   "execution_count": null,
   "id": "0aca0929-3681-4caa-a6a9-928f8a016851",
   "metadata": {},
   "outputs": [],
   "source": [
    "# Appliquer l'assignation (utiliser 'Function' au lieu de 'FID')\n",
    "df['function_group'] = df['Function'].apply(assign_function_group)"
   ]
  },
  {
   "cell_type": "code",
   "execution_count": null,
   "id": "6ea263d3-a3fa-4583-9f76-3ba0c8544df6",
   "metadata": {},
   "outputs": [],
   "source": [
    "# Supprimer les lignes sans groupe de fonction\n",
    "df = df.dropna(subset=['function_group'])"
   ]
  },
  {
   "cell_type": "code",
   "execution_count": null,
   "id": "c54419f3-f1e3-4a17-b852-0ab1a95a897d",
   "metadata": {},
   "outputs": [],
   "source": [
    "# Calculer la moyenne de RELERT par groupe (sans Algorithm)\n",
    "grouped = df.groupby(['Dimension', 'function_group'])['RELERT'].mean().reset_index()"
   ]
  },
  {
   "cell_type": "code",
   "execution_count": null,
   "id": "d6a2cc25-d367-4498-bd67-61a9944c061a",
   "metadata": {},
   "outputs": [],
   "source": [
    "# Transformer le tableau (pas de pivot car plus de colonnes à pivoter)\n",
    "pivot_result = grouped.set_index(['Dimension', 'function_group']).sort_index()"
   ]
  },
  {
   "cell_type": "code",
   "execution_count": null,
   "id": "1380bccf-fdd5-487f-bda6-e0587d9c55cd",
   "metadata": {},
   "outputs": [],
   "source": [
    "# Ajouter une ligne \"ALL\" pour chaque Dimension\n",
    "all_per_dimension = (\n",
    "    pivot_result\n",
    "    .groupby(level=0)\n",
    "    .mean()\n",
    "    .assign(function_group='ALL')\n",
    "    .set_index('function_group', append=True)\n",
    ")"
   ]
  },
  {
   "cell_type": "code",
   "execution_count": null,
   "id": "942401f3-7a83-4ab6-8f4e-1194cebc0c5b",
   "metadata": {},
   "outputs": [],
   "source": [
    "# # Ajouter la ligne \"ALL / ALL\" globale\n",
    "# all_overall = pd.DataFrame(\n",
    "#     pivot_result.mean().to_dict(),\n",
    "#     index=[('ALL', 'ALL')]\n",
    "# )"
   ]
  },
  {
   "cell_type": "code",
   "execution_count": null,
   "id": "8a5f0e86-1794-4eed-9df2-a158848ae83a",
   "metadata": {},
   "outputs": [],
   "source": [
    "# Fusionner les résultats\n",
    "final_result = pd.concat([pivot_result, all_per_dimension, all_overall])\n",
    "final_result = final_result.sort_index()"
   ]
  },
  {
   "cell_type": "code",
   "execution_count": null,
   "id": "d338b741-ccf3-4bcd-ad68-489c2acfa23a",
   "metadata": {},
   "outputs": [],
   "source": [
    "# Sauvegarder dans un fichier Excel\n",
    "final_result.to_excel('FFNew_RELERt_summary.xlsx')\n",
    "print(\"Tableau enregistré dans 'FFFNew_RELERt_summary.xlsx'\")"
   ]
  }
 ],
 "metadata": {
  "kernelspec": {
   "display_name": "Python 3 (ipykernel)",
   "language": "python",
   "name": "python3"
  },
  "language_info": {
   "codemirror_mode": {
    "name": "ipython",
    "version": 3
   },
   "file_extension": ".py",
   "mimetype": "text/x-python",
   "name": "python",
   "nbconvert_exporter": "python",
   "pygments_lexer": "ipython3",
   "version": "3.11.5"
  }
 },
 "nbformat": 4,
 "nbformat_minor": 5
}
